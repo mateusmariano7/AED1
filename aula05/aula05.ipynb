{
 "cells": [
  {
   "cell_type": "code",
   "execution_count": 1,
   "id": "d47bf3a7-4491-449f-80cc-a4034ecc9882",
   "metadata": {},
   "outputs": [
    {
     "name": "stdout",
     "output_type": "stream",
     "text": [
      "Hello World!\n"
     ]
    }
   ],
   "source": [
    "print(\"Hello World!\")"
   ]
  },
  {
   "cell_type": "code",
   "execution_count": 2,
   "id": "c39439a1-eb77-405a-a610-8a2bfad57f93",
   "metadata": {},
   "outputs": [
    {
     "data": {
      "text/plain": [
       "10"
      ]
     },
     "execution_count": 2,
     "metadata": {},
     "output_type": "execute_result"
    }
   ],
   "source": [
    "5+5"
   ]
  },
  {
   "cell_type": "code",
   "execution_count": 3,
   "id": "fed2ed49-1a1a-4473-9ad1-d52894058fac",
   "metadata": {},
   "outputs": [],
   "source": [
    "nome = \"Mateus\""
   ]
  },
  {
   "cell_type": "code",
   "execution_count": 4,
   "id": "60e8707c-e75d-49d2-b246-9a38fff095c6",
   "metadata": {},
   "outputs": [
    {
     "data": {
      "text/plain": [
       "'Mateus'"
      ]
     },
     "execution_count": 4,
     "metadata": {},
     "output_type": "execute_result"
    }
   ],
   "source": [
    "nome"
   ]
  },
  {
   "cell_type": "code",
   "execution_count": 5,
   "id": "5d334288-5dcb-4fad-a1aa-31baa664d73b",
   "metadata": {},
   "outputs": [
    {
     "name": "stdout",
     "output_type": "stream",
     "text": [
      "Mateus\n"
     ]
    }
   ],
   "source": [
    "print(nome)"
   ]
  },
  {
   "cell_type": "code",
   "execution_count": 6,
   "id": "499539e8-7795-4f4e-8d38-0c5c938cf9ed",
   "metadata": {},
   "outputs": [],
   "source": [
    "x = 345"
   ]
  },
  {
   "cell_type": "code",
   "execution_count": 7,
   "id": "6170050f-e708-4be0-ba0c-4fe65ea292eb",
   "metadata": {},
   "outputs": [
    {
     "data": {
      "text/plain": [
       "345"
      ]
     },
     "execution_count": 7,
     "metadata": {},
     "output_type": "execute_result"
    }
   ],
   "source": [
    "x"
   ]
  },
  {
   "cell_type": "code",
   "execution_count": 8,
   "id": "f05c4269-090d-4d72-87cd-9112124a9617",
   "metadata": {},
   "outputs": [
    {
     "name": "stdout",
     "output_type": "stream",
     "text": [
      "345\n"
     ]
    }
   ],
   "source": [
    "print(x)"
   ]
  },
  {
   "cell_type": "code",
   "execution_count": 10,
   "id": "eda2e9e3-fcfc-4516-bd42-c2141d1b89f2",
   "metadata": {},
   "outputs": [],
   "source": [
    "y = x + 2"
   ]
  },
  {
   "cell_type": "code",
   "execution_count": 11,
   "id": "19b5b4ce-4597-42b0-9af9-1f933e59f077",
   "metadata": {},
   "outputs": [
    {
     "data": {
      "text/plain": [
       "347"
      ]
     },
     "execution_count": 11,
     "metadata": {},
     "output_type": "execute_result"
    }
   ],
   "source": [
    "y"
   ]
  },
  {
   "cell_type": "code",
   "execution_count": 12,
   "id": "c80d15e3-a748-42aa-a5a9-bf30e787e146",
   "metadata": {},
   "outputs": [
    {
     "name": "stdout",
     "output_type": "stream",
     "text": [
      "692\n"
     ]
    }
   ],
   "source": [
    "print(x+y)"
   ]
  },
  {
   "cell_type": "code",
   "execution_count": 13,
   "id": "07404197-ddec-498e-bd37-0bfe278753a8",
   "metadata": {},
   "outputs": [
    {
     "name": "stdout",
     "output_type": "stream",
     "text": [
      "119715\n"
     ]
    }
   ],
   "source": [
    "print(x*y)"
   ]
  },
  {
   "cell_type": "code",
   "execution_count": 15,
   "id": "670c5b65-7a84-4597-aaaa-c7e545e1ba78",
   "metadata": {},
   "outputs": [],
   "source": [
    "a = 5 "
   ]
  },
  {
   "cell_type": "code",
   "execution_count": 16,
   "id": "ee276298-867b-48e8-be6a-d35f7b30b75d",
   "metadata": {},
   "outputs": [
    {
     "data": {
      "text/plain": [
       "int"
      ]
     },
     "execution_count": 16,
     "metadata": {},
     "output_type": "execute_result"
    }
   ],
   "source": [
    "type(a)"
   ]
  },
  {
   "cell_type": "code",
   "execution_count": 18,
   "id": "f77ed7ca-81b6-4909-934a-6642d024981e",
   "metadata": {},
   "outputs": [],
   "source": [
    "a = True"
   ]
  },
  {
   "cell_type": "code",
   "execution_count": 19,
   "id": "ab4cf27e-9fb9-48fd-9048-b41b7427890a",
   "metadata": {},
   "outputs": [
    {
     "data": {
      "text/plain": [
       "bool"
      ]
     },
     "execution_count": 19,
     "metadata": {},
     "output_type": "execute_result"
    }
   ],
   "source": [
    "type(a)"
   ]
  },
  {
   "cell_type": "code",
   "execution_count": 20,
   "id": "a4c72527-d376-48ed-9db7-3f2569562956",
   "metadata": {},
   "outputs": [],
   "source": [
    "a = 5.6"
   ]
  },
  {
   "cell_type": "code",
   "execution_count": 21,
   "id": "f60df0e2-7c5c-40b4-974f-385a1b96ffd3",
   "metadata": {},
   "outputs": [
    {
     "data": {
      "text/plain": [
       "float"
      ]
     },
     "execution_count": 21,
     "metadata": {},
     "output_type": "execute_result"
    }
   ],
   "source": [
    "type(a)"
   ]
  },
  {
   "cell_type": "code",
   "execution_count": 23,
   "id": "d63265e5-952f-4b57-806c-098dcecf3326",
   "metadata": {},
   "outputs": [],
   "source": [
    "x = 45\n",
    "y = 23"
   ]
  },
  {
   "cell_type": "code",
   "execution_count": 24,
   "id": "8b0f41fc-dafc-4d01-99ee-4d558f094338",
   "metadata": {},
   "outputs": [
    {
     "data": {
      "text/plain": [
       "68"
      ]
     },
     "execution_count": 24,
     "metadata": {},
     "output_type": "execute_result"
    }
   ],
   "source": [
    "x + y"
   ]
  },
  {
   "cell_type": "code",
   "execution_count": 25,
   "id": "583261d8-adb0-43df-9eb2-d5d3b6d34ba6",
   "metadata": {},
   "outputs": [],
   "source": [
    "soma = x + y"
   ]
  },
  {
   "cell_type": "code",
   "execution_count": 26,
   "id": "c3590ce3-059e-4ccf-a6de-e9445f08a2a6",
   "metadata": {},
   "outputs": [
    {
     "data": {
      "text/plain": [
       "int"
      ]
     },
     "execution_count": 26,
     "metadata": {},
     "output_type": "execute_result"
    }
   ],
   "source": [
    "type(soma)"
   ]
  },
  {
   "cell_type": "code",
   "execution_count": 27,
   "id": "b149bcd7-8a96-44ea-923f-42ea9b90ac6a",
   "metadata": {},
   "outputs": [
    {
     "name": "stdout",
     "output_type": "stream",
     "text": [
      "68\n"
     ]
    }
   ],
   "source": [
    "print(soma)"
   ]
  },
  {
   "cell_type": "code",
   "execution_count": 28,
   "id": "cfcffc89-0449-4caa-a42a-c7c5bb33a0f0",
   "metadata": {},
   "outputs": [
    {
     "data": {
      "text/plain": [
       "1.9565217391304348"
      ]
     },
     "execution_count": 28,
     "metadata": {},
     "output_type": "execute_result"
    }
   ],
   "source": [
    "x / y "
   ]
  },
  {
   "cell_type": "code",
   "execution_count": 29,
   "id": "d95bdd43-6672-48b6-8db8-2cd94da63971",
   "metadata": {},
   "outputs": [
    {
     "data": {
      "text/plain": [
       "1"
      ]
     },
     "execution_count": 29,
     "metadata": {},
     "output_type": "execute_result"
    }
   ],
   "source": [
    "x // y "
   ]
  },
  {
   "cell_type": "code",
   "execution_count": 30,
   "id": "f3d7ede2-bd2a-4631-868f-577cb8ae7db4",
   "metadata": {},
   "outputs": [
    {
     "data": {
      "text/plain": [
       "22"
      ]
     },
     "execution_count": 30,
     "metadata": {},
     "output_type": "execute_result"
    }
   ],
   "source": [
    "x % y"
   ]
  },
  {
   "cell_type": "code",
   "execution_count": 31,
   "id": "1dbd7464-aa83-4d9c-8478-8682aec85a87",
   "metadata": {},
   "outputs": [],
   "source": [
    "r = 10_000_000_000_000_000"
   ]
  },
  {
   "cell_type": "code",
   "execution_count": 32,
   "id": "a4d2fe73-5b03-4ef2-be09-b29fdf598f9e",
   "metadata": {},
   "outputs": [
    {
     "data": {
      "text/plain": [
       "10000000000000000"
      ]
     },
     "execution_count": 32,
     "metadata": {},
     "output_type": "execute_result"
    }
   ],
   "source": [
    "r"
   ]
  },
  {
   "cell_type": "code",
   "execution_count": 33,
   "id": "f50f7860-a0f5-421b-a91f-17857ce368ea",
   "metadata": {},
   "outputs": [],
   "source": [
    "y = False"
   ]
  },
  {
   "cell_type": "code",
   "execution_count": 34,
   "id": "81986ada-344f-410c-9621-d1f9aefe5949",
   "metadata": {},
   "outputs": [],
   "source": [
    "x = True"
   ]
  },
  {
   "cell_type": "code",
   "execution_count": 35,
   "id": "4437caea-5051-4927-ac79-df6478235e3f",
   "metadata": {},
   "outputs": [
    {
     "data": {
      "text/plain": [
       "False"
      ]
     },
     "execution_count": 35,
     "metadata": {},
     "output_type": "execute_result"
    }
   ],
   "source": [
    "x and y "
   ]
  },
  {
   "cell_type": "code",
   "execution_count": 36,
   "id": "084406f7-7186-4f39-8e27-daf14b78f14c",
   "metadata": {},
   "outputs": [
    {
     "data": {
      "text/plain": [
       "True"
      ]
     },
     "execution_count": 36,
     "metadata": {},
     "output_type": "execute_result"
    }
   ],
   "source": [
    "x or y "
   ]
  },
  {
   "cell_type": "code",
   "execution_count": 37,
   "id": "2fc22313-bb4f-4c20-9c50-166fbe91e733",
   "metadata": {},
   "outputs": [
    {
     "data": {
      "text/plain": [
       "False"
      ]
     },
     "execution_count": 37,
     "metadata": {},
     "output_type": "execute_result"
    }
   ],
   "source": [
    "not x "
   ]
  },
  {
   "cell_type": "code",
   "execution_count": 38,
   "id": "01c10201-7358-42a8-a49c-8a4e659d59de",
   "metadata": {},
   "outputs": [
    {
     "data": {
      "text/plain": [
       "True"
      ]
     },
     "execution_count": 38,
     "metadata": {},
     "output_type": "execute_result"
    }
   ],
   "source": [
    "not y "
   ]
  },
  {
   "cell_type": "code",
   "execution_count": 39,
   "id": "f095ee68-55ac-4c21-8b82-a883325e9cd4",
   "metadata": {},
   "outputs": [],
   "source": [
    "nome = 'Mateus'"
   ]
  },
  {
   "cell_type": "code",
   "execution_count": 40,
   "id": "c57139a2-d012-4a5f-92d2-55ae04958792",
   "metadata": {},
   "outputs": [
    {
     "data": {
      "text/plain": [
       "str"
      ]
     },
     "execution_count": 40,
     "metadata": {},
     "output_type": "execute_result"
    }
   ],
   "source": [
    "type(nome)"
   ]
  },
  {
   "cell_type": "code",
   "execution_count": 41,
   "id": "9ba048db-e283-42fa-b5c2-90a0dcd7c821",
   "metadata": {},
   "outputs": [],
   "source": [
    "sobrenome = \"Mariano\" "
   ]
  },
  {
   "cell_type": "code",
   "execution_count": 42,
   "id": "88b28fd5-0358-4231-adf9-c9e41e9d7f5f",
   "metadata": {},
   "outputs": [],
   "source": [
    "nome_completo = sobrenome + ' ' + nome"
   ]
  },
  {
   "cell_type": "code",
   "execution_count": 43,
   "id": "6c9cc125-bcc3-4c77-818e-55091538fa28",
   "metadata": {},
   "outputs": [
    {
     "data": {
      "text/plain": [
       "'Mariano Mateus'"
      ]
     },
     "execution_count": 43,
     "metadata": {},
     "output_type": "execute_result"
    }
   ],
   "source": [
    "nome_completo"
   ]
  },
  {
   "cell_type": "code",
   "execution_count": 44,
   "id": "f04b058c-1314-484c-b3cc-89e7bc5ca863",
   "metadata": {},
   "outputs": [
    {
     "name": "stdout",
     "output_type": "stream",
     "text": [
      "Mariano Mateus\n"
     ]
    }
   ],
   "source": [
    "print(nome_completo)"
   ]
  },
  {
   "cell_type": "code",
   "execution_count": 45,
   "id": "17e19d9f-dba9-45f3-b35e-ffcb131d6b15",
   "metadata": {},
   "outputs": [
    {
     "data": {
      "text/plain": [
       "'MateusMateusMateusMateus'"
      ]
     },
     "execution_count": 45,
     "metadata": {},
     "output_type": "execute_result"
    }
   ],
   "source": [
    "nome * 4"
   ]
  },
  {
   "cell_type": "code",
   "execution_count": 47,
   "id": "0f9dbda1-ce21-4864-8da3-970735dee831",
   "metadata": {},
   "outputs": [
    {
     "data": {
      "text/plain": [
       "'MateusMateusMateusMateusMateusMateusMateusMateusMateusMateusMateusMateusMateusMateusMateusMateusMateusMateusMateusMateusMateusMateusMateusMateusMateusMateusMateusMateusMateusMateusMateusMateusMateusMateusMateusMateusMateusMateusMateusMateusMateusMateusMateusMateusMateusMateusMateusMateusMateusMateusMateusMateusMateusMateusMateusMateusMateusMateusMateusMateusMateusMateusMateusMateusMateusMateusMateusMateusMateusMateusMateusMateusMateusMateusMateusMateusMateusMateusMateusMateusMateusMateusMateusMateusMateusMateusMateusMateusMateusMateusMateusMateusMateusMateusMateusMateusMateusMateusMateusMateus'"
      ]
     },
     "execution_count": 47,
     "metadata": {},
     "output_type": "execute_result"
    }
   ],
   "source": [
    "nome * 100"
   ]
  },
  {
   "cell_type": "code",
   "execution_count": 48,
   "id": "f82f5067-c40b-4826-a92b-bd0109a9c134",
   "metadata": {},
   "outputs": [],
   "source": [
    "nome * 100000000\n"
   ]
  },
  {
   "cell_type": "code",
   "execution_count": 49,
   "id": "6bc91b35-9cb4-4c1d-abbc-3eda47adfa6b",
   "metadata": {},
   "outputs": [
    {
     "data": {
      "text/plain": [
       "'M'"
      ]
     },
     "execution_count": 49,
     "metadata": {},
     "output_type": "execute_result"
    }
   ],
   "source": [
    "nome[0]"
   ]
  },
  {
   "cell_type": "raw",
   "id": "e1344d7e-fcdd-4ad9-aa37-d0b1d8ccbec7",
   "metadata": {},
   "source": [
    "chr(97)"
   ]
  },
  {
   "cell_type": "code",
   "execution_count": 50,
   "id": "c83c0a17-72d1-46ef-9f48-ed588a9aed44",
   "metadata": {},
   "outputs": [
    {
     "data": {
      "text/plain": [
       "'a'"
      ]
     },
     "execution_count": 50,
     "metadata": {},
     "output_type": "execute_result"
    }
   ],
   "source": [
    "chr(97)"
   ]
  },
  {
   "cell_type": "code",
   "execution_count": null,
   "id": "74560e47-3c00-41a2-bac1-f1ffe4b9b0fa",
   "metadata": {},
   "outputs": [],
   "source": []
  }
 ],
 "metadata": {
  "kernelspec": {
   "display_name": "Python 3 (ipykernel)",
   "language": "python",
   "name": "python3"
  },
  "language_info": {
   "codemirror_mode": {
    "name": "ipython",
    "version": 3
   },
   "file_extension": ".py",
   "mimetype": "text/x-python",
   "name": "python",
   "nbconvert_exporter": "python",
   "pygments_lexer": "ipython3",
   "version": "3.12.4"
  }
 },
 "nbformat": 4,
 "nbformat_minor": 5
}
