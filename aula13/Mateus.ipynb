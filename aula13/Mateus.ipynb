{
 "cells": [
  {
   "cell_type": "code",
   "execution_count": 17,
   "id": "6a5300f5-8a63-4edd-a89f-ad7cc9d76f2a",
   "metadata": {},
   "outputs": [
    {
     "name": "stdin",
     "output_type": "stream",
     "text": [
      " Batatinha quando nasce\n"
     ]
    },
    {
     "name": "stdout",
     "output_type": "stream",
     "text": [
      "batatinha_quando_nasce\n"
     ]
    }
   ],
   "source": [
    "#Exercicio 1 \n",
    "def normalizar_frase(frase):\n",
    "    frase = frase.lower()\n",
    "    frase = ' '.join(frase.split()) \n",
    "    frase = frase.replace(' ', '_')\n",
    "    return frase\n",
    "\n",
    "\n",
    "entrada = input().strip()\n",
    "print(normalizar_frase(entrada))"
   ]
  },
  {
   "cell_type": "code",
   "execution_count": 16,
   "id": "524e8329-3fcc-434b-912f-4ddc221981fc",
   "metadata": {},
   "outputs": [
    {
     "name": "stdout",
     "output_type": "stream",
     "text": [
      "Média das vendas filtradas: R$ 206.67\n"
     ]
    }
   ],
   "source": [
    "#Exercicio 2 \n",
    "vendas = [120, 85, 300, 55, 200, 95]\n",
    "vendas_filtradas = [venda for venda in vendas if venda >= 100.00]\n",
    "\n",
    "if vendas_filtradas:\n",
    "    media_vendas = sum(vendas_filtradas) / len(vendas_filtradas)\n",
    "    print(f\"Média das vendas filtradas: R$ {media_vendas:.2f}\")\n",
    "else:\n",
    "    print(\"Não há vendas acima de R$ 100,00.\")"
   ]
  },
  {
   "cell_type": "code",
   "execution_count": 14,
   "id": "2889c9ba-6293-4376-aa31-cd3bb61972b3",
   "metadata": {},
   "outputs": [
    {
     "name": "stdin",
     "output_type": "stream",
     "text": [
      "Digite o valor de x1:  2\n",
      "Digite o valor de y1:  2\n",
      "Digite o valor de x2:  3\n",
      "Digite o valor de y2:  3\n",
      "Digite o valor de x3:  4\n",
      "Digite o valor de y3:  4\n"
     ]
    },
    {
     "name": "stdout",
     "output_type": "stream",
     "text": [
      "A distância média dos pontos a partir da origem é: 4.24\n"
     ]
    }
   ],
   "source": [
    "#Exercicio 3 \n",
    "import math\n",
    "\n",
    "def calcular_distancia(x, y):\n",
    "    return math.sqrt(x**2 + y**2)\n",
    "\n",
    "x1 = float(input(\"Digite o valor de x1: \"))\n",
    "y1 = float(input(\"Digite o valor de y1: \"))\n",
    "x2 = float(input(\"Digite o valor de x2: \"))\n",
    "y2 = float(input(\"Digite o valor de y2: \"))\n",
    "x3 = float(input(\"Digite o valor de x3: \"))\n",
    "y3 = float(input(\"Digite o valor de y3: \"))\n",
    "\n",
    "distancia1 = calcular_distancia(x1, y1)\n",
    "distancia2 = calcular_distancia(x2, y2)\n",
    "distancia3 = calcular_distancia(x3, y3)\n",
    "\n",
    "media_distancia = (distancia1 + distancia2 + distancia3) / 3\n",
    "\n",
    "print(f\"A distância média dos pontos a partir da origem é: {media_distancia:.2f}\")"
   ]
  },
  {
   "cell_type": "code",
   "execution_count": 15,
   "id": "3dfd49c5-f8c7-40c0-a625-ecf8dbf4abae",
   "metadata": {},
   "outputs": [
    {
     "name": "stdin",
     "output_type": "stream",
     "text": [
      "Digite uma frase:  batatinha quando nasce espalha rama quando nasce\n"
     ]
    },
    {
     "name": "stdout",
     "output_type": "stream",
     "text": [
      "batatinha: 1 | quando: 2 | nasce: 2 | espalha: 1 | rama: 1\n"
     ]
    }
   ],
   "source": [
    "#Exercicio 4\n",
    "def contar_frequencia(frase):\n",
    "    palavras = frase.lower().split()\n",
    "    contagem = {}\n",
    "    \n",
    "    for palavra in palavras:\n",
    "        if palavra in contagem:\n",
    "            contagem[palavra] += 1\n",
    "        else:\n",
    "            contagem[palavra] = 1\n",
    "    return contagem\n",
    "frase = input(\"Digite uma frase: \")\n",
    "contagem = contar_frequencia(frase)\n",
    "saida = [f\"{palavra}: {frequencia}\" for palavra, frequencia in contagem.items()]\n",
    "print(\" | \".join(saida))"
   ]
  },
  {
   "cell_type": "code",
   "execution_count": null,
   "id": "fc92ecb8-753a-4884-9d76-bcd17bfb58ed",
   "metadata": {},
   "outputs": [],
   "source": []
  },
  {
   "cell_type": "code",
   "execution_count": null,
   "id": "449bef18-41c4-4fa0-b909-550cf582e8e5",
   "metadata": {},
   "outputs": [],
   "source": []
  }
 ],
 "metadata": {
  "kernelspec": {
   "display_name": "Python 3 (ipykernel)",
   "language": "python",
   "name": "python3"
  },
  "language_info": {
   "codemirror_mode": {
    "name": "ipython",
    "version": 3
   },
   "file_extension": ".py",
   "mimetype": "text/x-python",
   "name": "python",
   "nbconvert_exporter": "python",
   "pygments_lexer": "ipython3",
   "version": "3.12.4"
  }
 },
 "nbformat": 4,
 "nbformat_minor": 5
}
