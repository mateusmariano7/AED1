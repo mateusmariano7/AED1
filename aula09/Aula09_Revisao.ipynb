{
 "cells": [
  {
   "cell_type": "markdown",
   "metadata": {},
   "source": [
    "![Algoritmos e Estrutura de Dados I](AED1_banner.jpg)"
   ]
  },
  {
   "cell_type": "markdown",
   "metadata": {},
   "source": [
    "## <font color='blue'>Algoritmos e Estrutura de Dados I</font>\n",
    "## <font color='blue'>Aula 9 -  Revisão</font>"
   ]
  },
  {
   "cell_type": "code",
   "execution_count": null,
   "metadata": {},
   "outputs": [],
   "source": [
    "# Versão da Linguagem Python\n",
    "from platform import python_version\n",
    "print('Versão da Linguagem Python Usada Neste Jupyter Notebook:', python_version())"
   ]
  },
  {
   "cell_type": "markdown",
   "metadata": {},
   "source": [
    "## Estrutura sequencial"
   ]
  },
  {
   "cell_type": "markdown",
   "metadata": {},
   "source": [
    "Escreva um programa em Python que solicite ao usuário o valor de dois números, calcule e exiba a soma deles."
   ]
  },
  {
   "cell_type": "code",
   "execution_count": 2,
   "metadata": {},
   "outputs": [
    {
     "name": "stdin",
     "output_type": "stream",
     "text": [
      "Digite um valor 3\n",
      "Digite outro valor 2\n"
     ]
    },
    {
     "name": "stdout",
     "output_type": "stream",
     "text": [
      "A soma deles é 5.0\n"
     ]
    }
   ],
   "source": [
    "valor = float(input(\"Digite um valor\"))\n",
    "valor2 = float(input(\"Digite outro valor\"))\n",
    "\n",
    "soma = valor + valor2\n",
    "\n",
    "print(f\"A soma deles é {soma}\")\n"
   ]
  },
  {
   "attachments": {},
   "cell_type": "markdown",
   "metadata": {},
   "source": [
    "Escreva um programa em Python que solicite ao usuário a temperatura em graus Celsius e converta para Fahrenheit. A fórmula para conversão é F = C * 9/5 + 32.\n"
   ]
  },
  {
   "cell_type": "code",
   "execution_count": 21,
   "metadata": {},
   "outputs": [
    {
     "name": "stdin",
     "output_type": "stream",
     "text": [
      "Digite a temperatura em Celsius 20\n"
     ]
    },
    {
     "name": "stdout",
     "output_type": "stream",
     "text": [
      "A temperatura em Fahrenit é 68.0\n"
     ]
    }
   ],
   "source": [
    "C = float(input(\"Digite a temperatura em Celsius\"))\n",
    "\n",
    "F = (C * 9) / 5 + 32\n",
    "\n",
    "print(f\"A temperatura em Fahrenit é {F}\")"
   ]
  },
  {
   "cell_type": "markdown",
   "metadata": {},
   "source": [
    "## Estrutura Condicional"
   ]
  },
  {
   "cell_type": "markdown",
   "metadata": {},
   "source": [
    "Escreva um programa em Python que solicite ao usuário um número e verifique se ele é positivo, negativo ou zero. Exiba a mensagem correspondente.\n"
   ]
  },
  {
   "cell_type": "code",
   "execution_count": 24,
   "metadata": {},
   "outputs": [
    {
     "name": "stdin",
     "output_type": "stream",
     "text": [
      "Digite um valor 2.5\n"
     ]
    },
    {
     "name": "stdout",
     "output_type": "stream",
     "text": [
      "O valor é positivo\n"
     ]
    }
   ],
   "source": [
    "N = float(input(\"Digite um valor\"))\n",
    "\n",
    "if N > 0:\n",
    "    print(f\"O valor é positivo\")\n",
    "elif N < 0:\n",
    "    print(f\"O valor é negativo\")\n",
    "else:\n",
    "    print(f\"O numero é zero\")\n",
    "    "
   ]
  },
  {
   "cell_type": "markdown",
   "metadata": {},
   "source": [
    "Escreva um programa em Python que solicite ao usuário três números e determine qual é o maior entre eles.\n"
   ]
  },
  {
   "cell_type": "code",
   "execution_count": 30,
   "metadata": {},
   "outputs": [
    {
     "name": "stdin",
     "output_type": "stream",
     "text": [
      "Digite um valor 1 5\n",
      "Digite um valor 2 5\n",
      "Digite um valor 3 5\n"
     ]
    },
    {
     "name": "stdout",
     "output_type": "stream",
     "text": [
      "Os números são iguais\n"
     ]
    }
   ],
   "source": [
    "n1 = float(input(\"Digite um valor 1\"))\n",
    "n2 = float(input(\"Digite um valor 2\"))\n",
    "n3 = float(input(\"Digite um valor 3\"))\n",
    "\n",
    "if n1 > n2 and n1 > n3:\n",
    "    print(f\"O valor 1 é o maior\")\n",
    "elif n2 > n1 and n2 > n3:\n",
    "    print(f\"O valor 2 é o maior\")\n",
    "elif n3 > n1 and n3 > n2:\n",
    "    print(f\"O valor 3 é o maior\")\n",
    "elif n1 == n2 == n3:\n",
    "    print(f\"Os números são iguais\")\n"
   ]
  },
  {
   "cell_type": "markdown",
   "metadata": {},
   "source": [
    "## Estrutura de Repetição"
   ]
  },
  {
   "cell_type": "markdown",
   "metadata": {},
   "source": [
    "Escreva um programa em Python que exiba todos os números de 1 a 10.\n"
   ]
  },
  {
   "cell_type": "code",
   "execution_count": 36,
   "metadata": {},
   "outputs": [
    {
     "name": "stdin",
     "output_type": "stream",
     "text": [
      "digite um valor de 0 a 9:  4\n"
     ]
    },
    {
     "name": "stdout",
     "output_type": "stream",
     "text": [
      " 1 x  4.0 =  4.0\n",
      " 2 x  4.0 =  8.0\n",
      " 3 x  4.0 = 12.0\n",
      " 4 x  4.0 = 16.0\n",
      " 5 x  4.0 = 20.0\n",
      " 6 x  4.0 = 24.0\n",
      " 7 x  4.0 = 28.0\n",
      " 8 x  4.0 = 32.0\n",
      " 9 x  4.0 = 36.0\n",
      "10 x  4.0 = 40.0\n"
     ]
    }
   ],
   "source": [
    "while True:\n",
    "    digitacao = input(\"digite um valor de 0 a 9: \")\n",
    "    if digitacao.isnumeric():\n",
    "        numero = float(digitacao)\n",
    "        if numero>=1 and numero<=9:\n",
    "            break\n",
    "        else: \n",
    "            print(\"Digite um valor entre 1 e 9!\")\n",
    "    else:\n",
    "        print(\"O que foi digitado não é um número, Repita\")\n",
    "for i in range(1,11):\n",
    "            print(f\"{i:2d} x {numero:4.1f} = {(i *numero):4.1f}\")\n",
    "\n",
    "\n"
   ]
  },
  {
   "cell_type": "markdown",
   "metadata": {},
   "source": [
    "Escreva um programa em Python que solicite ao usuário um número inteiro positivo e calcule o fatorial desse número.\n"
   ]
  },
  {
   "cell_type": "code",
   "execution_count": 41,
   "metadata": {},
   "outputs": [
    {
     "name": "stdin",
     "output_type": "stream",
     "text": [
      "Digite um numero:  5\n"
     ]
    },
    {
     "name": "stdout",
     "output_type": "stream",
     "text": [
      " O fatorial de 5 é igual a 120\n"
     ]
    }
   ],
   "source": [
    "numero = int(input(\"Digite um numero: \"))\n",
    "fatorial = 1\n",
    "for i in range(1, numero+1):\n",
    "    fatorial *= i \n",
    "\n",
    "print(f\" O fatorial de {numero} é igual a {fatorial}\")\n"
   ]
  },
  {
   "cell_type": "markdown",
   "metadata": {},
   "source": [
    "## Geral"
   ]
  },
  {
   "cell_type": "markdown",
   "metadata": {},
   "source": [
    "Você é um cientista de dados e precisa analisar as notas de um conjunto de estudantes em uma disciplina. Você deverá escrever um programa em Python que solicite ao usuário o número de estudantes e, em seguida, as notas desses estudantes. O programa deve calcular e exibir:\n",
    "\n",
    "- A média das notas.\n",
    "- A maior e a menor nota.\n",
    "- O número de estudantes aprovados (nota maior ou igual a 6) e reprovados (nota menor que 6).\n",
    "\n",
    "Regras:\n",
    "\n",
    "- Utilize variáveis simples para armazenar as informações.\n",
    "- Utilize estruturas de repetição para coletar as notas dos estudantes.\n",
    "- Utilize estruturas condicionais para determinar o status de aprovação dos estudantes."
   ]
  },
  {
   "cell_type": "code",
   "execution_count": 44,
   "metadata": {},
   "outputs": [
    {
     "name": "stdin",
     "output_type": "stream",
     "text": [
      "Digite o total de estudantes 20\n",
      "Entre com a nota do aluno 1:  2\n",
      "Entre com a nota do aluno 2:  4\n",
      "Entre com a nota do aluno 3:  6\n",
      "Entre com a nota do aluno 4:  9\n",
      "Entre com a nota do aluno 5:  6\n",
      "Entre com a nota do aluno 6:  4\n",
      "Entre com a nota do aluno 7:  3\n",
      "Entre com a nota do aluno 8:  7\n",
      "Entre com a nota do aluno 9:  8\n",
      "Entre com a nota do aluno 10:  4\n",
      "Entre com a nota do aluno 11:  2\n",
      "Entre com a nota do aluno 12:  1\n",
      "Entre com a nota do aluno 13:  5\n",
      "Entre com a nota do aluno 14:  7\n",
      "Entre com a nota do aluno 15:  9\n",
      "Entre com a nota do aluno 16:  4\n",
      "Entre com a nota do aluno 17:  5\n",
      "Entre com a nota do aluno 18:  3\n",
      "Entre com a nota do aluno 19:  2\n",
      "Entre com a nota do aluno 20:  7\n"
     ]
    },
    {
     "name": "stdout",
     "output_type": "stream",
     "text": [
      "A média das notas é igual a 4.9\n",
      "A menor nota é igual a 1.0\n",
      "A menor nota é igual a 9.0\n",
      "O número de aprovados é igual a 8\n"
     ]
    }
   ],
   "source": [
    "qtd_alunos = int(input(\"Digite o total de estudantes\"))\n",
    "soma_notas = 0\n",
    "maior = 0\n",
    "menor = 100\n",
    "qtd_aprov = 0\n",
    "qtd_repro = 0\n",
    "for i in range(qtd_alunos):\n",
    "    nota = float(input(f\"Entre com a nota do aluno {i+1}: \"))\n",
    "    if nota >= 6:\n",
    "        qtd_aprov += 1 \n",
    "    else: \n",
    "        qtd_repro += 1 \n",
    "    if nota > maior:\n",
    "        maior = nota\n",
    "    if nota < menor:\n",
    "        menor = nota\n",
    "    soma_notas += nota\n",
    "media = soma_notas / qtd_alunos\n",
    "print(f\"A média das notas é igual a {media}\")\n",
    "print(f\"A menor nota é igual a {menor}\")\n",
    "print(f\"A menor nota é igual a {maior}\")\n",
    "print(f\"O número de aprovados é igual a {qtd_aprov}\")"
   ]
  },
  {
   "cell_type": "markdown",
   "metadata": {},
   "source": [
    "Faça um programa que receba um número inteiro positivo e transforme esse número para binário."
   ]
  },
  {
   "cell_type": "code",
   "execution_count": 48,
   "metadata": {},
   "outputs": [
    {
     "name": "stdin",
     "output_type": "stream",
     "text": [
      "Digite um número inteiro e positivo 312421323\n"
     ]
    },
    {
     "name": "stdout",
     "output_type": "stream",
     "text": [
      "O número 312421323 em binário é :  10010100111110010101111001011\n"
     ]
    }
   ],
   "source": [
    "numero = int(input(\"Digite um número inteiro e positivo\"))\n",
    "b = ''\n",
    "n = numero\n",
    "if numero == 0:\n",
    "    b = '0'\n",
    "else: \n",
    "    while numero > 0:\n",
    "        resto = numero % 2 \n",
    "        digito = str(resto)\n",
    "        b = digito + b\n",
    "        numero = numero // 2 \n",
    "print(f\"O número {n} em binário é : \", b)\n",
    "    \n",
    "\n",
    "\n",
    "\n",
    "\n",
    "    "
   ]
  },
  {
   "cell_type": "markdown",
   "metadata": {},
   "source": [
    "## Fim da Aula 9"
   ]
  }
 ],
 "metadata": {
  "kernelspec": {
   "display_name": "Python 3 (ipykernel)",
   "language": "python",
   "name": "python3"
  },
  "language_info": {
   "codemirror_mode": {
    "name": "ipython",
    "version": 3
   },
   "file_extension": ".py",
   "mimetype": "text/x-python",
   "name": "python",
   "nbconvert_exporter": "python",
   "pygments_lexer": "ipython3",
   "version": "3.12.4"
  }
 },
 "nbformat": 4,
 "nbformat_minor": 4
}
